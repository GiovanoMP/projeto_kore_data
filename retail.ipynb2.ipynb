{
 "cells": [
  {
   "cell_type": "markdown",
   "metadata": {},
   "source": [
    "# Etapa 1: Análise e Limpeza dos Dados"
   ]
  },
  {
   "cell_type": "code",
   "execution_count": 1,
   "metadata": {},
   "outputs": [
    {
     "name": "stdout",
     "output_type": "stream",
     "text": [
      "Requirement already satisfied: openpyxl in c:\\users\\giova\\appdata\\local\\programs\\python\\python311\\lib\\site-packages (3.1.2)\n",
      "Requirement already satisfied: et-xmlfile in c:\\users\\giova\\appdata\\local\\programs\\python\\python311\\lib\\site-packages (from openpyxl) (1.1.0)\n"
     ]
    },
    {
     "name": "stderr",
     "output_type": "stream",
     "text": [
      "\n",
      "[notice] A new release of pip is available: 23.0.1 -> 24.0\n",
      "[notice] To update, run: python.exe -m pip install --upgrade pip\n"
     ]
    }
   ],
   "source": [
    "!pip install openpyxl"
   ]
  },
  {
   "cell_type": "code",
   "execution_count": 2,
   "metadata": {},
   "outputs": [],
   "source": [
    "# Bibliotecas\n",
    "import pandas as pd\n",
    "import re\n",
    "from sklearn.feature_extraction.text import TfidfVectorizer\n",
    "from sklearn.cluster import KMeans\n",
    "from sqlalchemy import create_engine\n",
    "import matplotlib.pyplot as plt\n",
    "import seaborn as sns"
   ]
  },
  {
   "cell_type": "markdown",
   "metadata": {},
   "source": [
    "# Dicionário de Dados - Online Retail\n",
    "\n",
    "| Nome da Coluna    | Descrição                                                                 |\n",
    "|-------------------|---------------------------------------------------------------------------|\n",
    "| NumeroFatura      | Número da fatura que identifica a transação.                              |\n",
    "| CodigoProduto     | Código do produto que foi vendido.                                        |\n",
    "| Descricao         | Descrição do produto vendido.                                             |\n",
    "| Quantidade        | Quantidade de produtos vendidos na transação.                             |\n",
    "| DataFatura        | Data e hora em que a fatura foi gerada.                                   |\n",
    "| PrecoUnitario     | Preço unitário do produto vendido.                                        |\n",
    "| IDCliente         | Identificação única do cliente que realizou a compra.                     |\n",
    "| Pais              | País onde o cliente está localizado.                                      |\n"
   ]
  },
  {
   "cell_type": "code",
   "execution_count": 3,
   "metadata": {},
   "outputs": [],
   "source": [
    "#Abrindo arquivo excel e transformando em DataFrame\n",
    "file_path = \"online_retail.xlsx\"\n",
    "df = pd.read_excel(file_path)\n"
   ]
  },
  {
   "cell_type": "markdown",
   "metadata": {},
   "source": [
    "# Renomeando as colunas para o português"
   ]
  },
  {
   "cell_type": "code",
   "execution_count": 4,
   "metadata": {},
   "outputs": [],
   "source": [
    "# Renomear as colunas para o português\n",
    "df.rename(columns={\n",
    "    'InvoiceNo': 'NumeroFatura',\n",
    "    'StockCode': 'CodigoProduto',\n",
    "    'Description': 'Descricao',\n",
    "    'Quantity': 'Quantidade',\n",
    "    'InvoiceDate': 'DataFatura',\n",
    "    'UnitPrice': 'PrecoUnitario',\n",
    "    'CustomerID': 'IDCliente',\n",
    "    'Country': 'Pais'\n",
    "}, inplace=True)"
   ]
  },
  {
   "cell_type": "code",
   "execution_count": 5,
   "metadata": {},
   "outputs": [
    {
     "data": {
      "text/plain": [
       "Index(['NumeroFatura', 'CodigoProduto', 'Descricao', 'Quantidade',\n",
       "       'DataFatura', 'PrecoUnitario', 'IDCliente', 'Pais'],\n",
       "      dtype='object')"
      ]
     },
     "execution_count": 5,
     "metadata": {},
     "output_type": "execute_result"
    }
   ],
   "source": [
    "# Compreendendo as colunas\n",
    "df.columns"
   ]
  },
  {
   "cell_type": "code",
   "execution_count": 6,
   "metadata": {},
   "outputs": [
    {
     "data": {
      "text/html": [
       "<div>\n",
       "<style scoped>\n",
       "    .dataframe tbody tr th:only-of-type {\n",
       "        vertical-align: middle;\n",
       "    }\n",
       "\n",
       "    .dataframe tbody tr th {\n",
       "        vertical-align: top;\n",
       "    }\n",
       "\n",
       "    .dataframe thead th {\n",
       "        text-align: right;\n",
       "    }\n",
       "</style>\n",
       "<table border=\"1\" class=\"dataframe\">\n",
       "  <thead>\n",
       "    <tr style=\"text-align: right;\">\n",
       "      <th></th>\n",
       "      <th>NumeroFatura</th>\n",
       "      <th>CodigoProduto</th>\n",
       "      <th>Descricao</th>\n",
       "      <th>Quantidade</th>\n",
       "      <th>DataFatura</th>\n",
       "      <th>PrecoUnitario</th>\n",
       "      <th>IDCliente</th>\n",
       "      <th>Pais</th>\n",
       "    </tr>\n",
       "  </thead>\n",
       "  <tbody>\n",
       "    <tr>\n",
       "      <th>0</th>\n",
       "      <td>536365</td>\n",
       "      <td>85123A</td>\n",
       "      <td>WHITE HANGING HEART T-LIGHT HOLDER</td>\n",
       "      <td>6</td>\n",
       "      <td>2010-12-01 08:26:00</td>\n",
       "      <td>2.55</td>\n",
       "      <td>17850.0</td>\n",
       "      <td>United Kingdom</td>\n",
       "    </tr>\n",
       "    <tr>\n",
       "      <th>1</th>\n",
       "      <td>536365</td>\n",
       "      <td>71053</td>\n",
       "      <td>WHITE METAL LANTERN</td>\n",
       "      <td>6</td>\n",
       "      <td>2010-12-01 08:26:00</td>\n",
       "      <td>3.39</td>\n",
       "      <td>17850.0</td>\n",
       "      <td>United Kingdom</td>\n",
       "    </tr>\n",
       "    <tr>\n",
       "      <th>2</th>\n",
       "      <td>536365</td>\n",
       "      <td>84406B</td>\n",
       "      <td>CREAM CUPID HEARTS COAT HANGER</td>\n",
       "      <td>8</td>\n",
       "      <td>2010-12-01 08:26:00</td>\n",
       "      <td>2.75</td>\n",
       "      <td>17850.0</td>\n",
       "      <td>United Kingdom</td>\n",
       "    </tr>\n",
       "    <tr>\n",
       "      <th>3</th>\n",
       "      <td>536365</td>\n",
       "      <td>84029G</td>\n",
       "      <td>KNITTED UNION FLAG HOT WATER BOTTLE</td>\n",
       "      <td>6</td>\n",
       "      <td>2010-12-01 08:26:00</td>\n",
       "      <td>3.39</td>\n",
       "      <td>17850.0</td>\n",
       "      <td>United Kingdom</td>\n",
       "    </tr>\n",
       "    <tr>\n",
       "      <th>4</th>\n",
       "      <td>536365</td>\n",
       "      <td>84029E</td>\n",
       "      <td>RED WOOLLY HOTTIE WHITE HEART.</td>\n",
       "      <td>6</td>\n",
       "      <td>2010-12-01 08:26:00</td>\n",
       "      <td>3.39</td>\n",
       "      <td>17850.0</td>\n",
       "      <td>United Kingdom</td>\n",
       "    </tr>\n",
       "  </tbody>\n",
       "</table>\n",
       "</div>"
      ],
      "text/plain": [
       "  NumeroFatura CodigoProduto                            Descricao  Quantidade   \n",
       "0       536365        85123A   WHITE HANGING HEART T-LIGHT HOLDER           6  \\\n",
       "1       536365         71053                  WHITE METAL LANTERN           6   \n",
       "2       536365        84406B       CREAM CUPID HEARTS COAT HANGER           8   \n",
       "3       536365        84029G  KNITTED UNION FLAG HOT WATER BOTTLE           6   \n",
       "4       536365        84029E       RED WOOLLY HOTTIE WHITE HEART.           6   \n",
       "\n",
       "           DataFatura  PrecoUnitario  IDCliente            Pais  \n",
       "0 2010-12-01 08:26:00           2.55    17850.0  United Kingdom  \n",
       "1 2010-12-01 08:26:00           3.39    17850.0  United Kingdom  \n",
       "2 2010-12-01 08:26:00           2.75    17850.0  United Kingdom  \n",
       "3 2010-12-01 08:26:00           3.39    17850.0  United Kingdom  \n",
       "4 2010-12-01 08:26:00           3.39    17850.0  United Kingdom  "
      ]
     },
     "execution_count": 6,
     "metadata": {},
     "output_type": "execute_result"
    }
   ],
   "source": [
    "df.head()"
   ]
  },
  {
   "cell_type": "code",
   "execution_count": 7,
   "metadata": {},
   "outputs": [
    {
     "data": {
      "text/html": [
       "<div>\n",
       "<style scoped>\n",
       "    .dataframe tbody tr th:only-of-type {\n",
       "        vertical-align: middle;\n",
       "    }\n",
       "\n",
       "    .dataframe tbody tr th {\n",
       "        vertical-align: top;\n",
       "    }\n",
       "\n",
       "    .dataframe thead th {\n",
       "        text-align: right;\n",
       "    }\n",
       "</style>\n",
       "<table border=\"1\" class=\"dataframe\">\n",
       "  <thead>\n",
       "    <tr style=\"text-align: right;\">\n",
       "      <th></th>\n",
       "      <th>NumeroFatura</th>\n",
       "      <th>CodigoProduto</th>\n",
       "      <th>Descricao</th>\n",
       "      <th>Quantidade</th>\n",
       "      <th>DataFatura</th>\n",
       "      <th>PrecoUnitario</th>\n",
       "      <th>IDCliente</th>\n",
       "      <th>Pais</th>\n",
       "    </tr>\n",
       "  </thead>\n",
       "  <tbody>\n",
       "    <tr>\n",
       "      <th>541904</th>\n",
       "      <td>581587</td>\n",
       "      <td>22613</td>\n",
       "      <td>PACK OF 20 SPACEBOY NAPKINS</td>\n",
       "      <td>12</td>\n",
       "      <td>2011-12-09 12:50:00</td>\n",
       "      <td>0.85</td>\n",
       "      <td>12680.0</td>\n",
       "      <td>France</td>\n",
       "    </tr>\n",
       "    <tr>\n",
       "      <th>541905</th>\n",
       "      <td>581587</td>\n",
       "      <td>22899</td>\n",
       "      <td>CHILDREN'S APRON DOLLY GIRL</td>\n",
       "      <td>6</td>\n",
       "      <td>2011-12-09 12:50:00</td>\n",
       "      <td>2.10</td>\n",
       "      <td>12680.0</td>\n",
       "      <td>France</td>\n",
       "    </tr>\n",
       "    <tr>\n",
       "      <th>541906</th>\n",
       "      <td>581587</td>\n",
       "      <td>23254</td>\n",
       "      <td>CHILDRENS CUTLERY DOLLY GIRL</td>\n",
       "      <td>4</td>\n",
       "      <td>2011-12-09 12:50:00</td>\n",
       "      <td>4.15</td>\n",
       "      <td>12680.0</td>\n",
       "      <td>France</td>\n",
       "    </tr>\n",
       "    <tr>\n",
       "      <th>541907</th>\n",
       "      <td>581587</td>\n",
       "      <td>23255</td>\n",
       "      <td>CHILDRENS CUTLERY CIRCUS PARADE</td>\n",
       "      <td>4</td>\n",
       "      <td>2011-12-09 12:50:00</td>\n",
       "      <td>4.15</td>\n",
       "      <td>12680.0</td>\n",
       "      <td>France</td>\n",
       "    </tr>\n",
       "    <tr>\n",
       "      <th>541908</th>\n",
       "      <td>581587</td>\n",
       "      <td>22138</td>\n",
       "      <td>BAKING SET 9 PIECE RETROSPOT</td>\n",
       "      <td>3</td>\n",
       "      <td>2011-12-09 12:50:00</td>\n",
       "      <td>4.95</td>\n",
       "      <td>12680.0</td>\n",
       "      <td>France</td>\n",
       "    </tr>\n",
       "  </tbody>\n",
       "</table>\n",
       "</div>"
      ],
      "text/plain": [
       "       NumeroFatura CodigoProduto                        Descricao   \n",
       "541904       581587         22613      PACK OF 20 SPACEBOY NAPKINS  \\\n",
       "541905       581587         22899     CHILDREN'S APRON DOLLY GIRL    \n",
       "541906       581587         23254    CHILDRENS CUTLERY DOLLY GIRL    \n",
       "541907       581587         23255  CHILDRENS CUTLERY CIRCUS PARADE   \n",
       "541908       581587         22138    BAKING SET 9 PIECE RETROSPOT    \n",
       "\n",
       "        Quantidade          DataFatura  PrecoUnitario  IDCliente    Pais  \n",
       "541904          12 2011-12-09 12:50:00           0.85    12680.0  France  \n",
       "541905           6 2011-12-09 12:50:00           2.10    12680.0  France  \n",
       "541906           4 2011-12-09 12:50:00           4.15    12680.0  France  \n",
       "541907           4 2011-12-09 12:50:00           4.15    12680.0  France  \n",
       "541908           3 2011-12-09 12:50:00           4.95    12680.0  France  "
      ]
     },
     "execution_count": 7,
     "metadata": {},
     "output_type": "execute_result"
    }
   ],
   "source": [
    "df.tail()"
   ]
  },
  {
   "cell_type": "code",
   "execution_count": 8,
   "metadata": {},
   "outputs": [
    {
     "name": "stdout",
     "output_type": "stream",
     "text": [
      "<class 'pandas.core.frame.DataFrame'>\n",
      "RangeIndex: 541909 entries, 0 to 541908\n",
      "Data columns (total 8 columns):\n",
      " #   Column         Non-Null Count   Dtype         \n",
      "---  ------         --------------   -----         \n",
      " 0   NumeroFatura   541909 non-null  object        \n",
      " 1   CodigoProduto  541909 non-null  object        \n",
      " 2   Descricao      540455 non-null  object        \n",
      " 3   Quantidade     541909 non-null  int64         \n",
      " 4   DataFatura     541909 non-null  datetime64[ns]\n",
      " 5   PrecoUnitario  541909 non-null  float64       \n",
      " 6   IDCliente      406829 non-null  float64       \n",
      " 7   Pais           541909 non-null  object        \n",
      "dtypes: datetime64[ns](1), float64(2), int64(1), object(4)\n",
      "memory usage: 33.1+ MB\n"
     ]
    }
   ],
   "source": [
    "# Estrutura do DataFrame\n",
    "df.info()"
   ]
  },
  {
   "cell_type": "markdown",
   "metadata": {},
   "source": [
    "Podemos observar que as colunas \"Descricao\" e \"IDCliente\" possuem valores ausentes. Como estes dados são essenciais para as análises posteriores, imputar dados como moda, mediana ou média poderia distorcer as análises posteriores, manter esses dados, pode induzir a tomadas de decisão igualmente incorretas.\n",
    "\n",
    "Como o nosso conjunto de dados é bastante robusto, a estratégia adotada será excluir os valores ausentes, desta forma, esperamos obter maior precisão em nossas análises."
   ]
  },
  {
   "cell_type": "code",
   "execution_count": 9,
   "metadata": {},
   "outputs": [],
   "source": [
    "# Excluindo valores ausentes\n",
    "df.dropna(inplace=True)"
   ]
  },
  {
   "cell_type": "code",
   "execution_count": 10,
   "metadata": {},
   "outputs": [
    {
     "data": {
      "text/plain": [
       "NumeroFatura     0\n",
       "CodigoProduto    0\n",
       "Descricao        0\n",
       "Quantidade       0\n",
       "DataFatura       0\n",
       "PrecoUnitario    0\n",
       "IDCliente        0\n",
       "Pais             0\n",
       "dtype: int64"
      ]
     },
     "execution_count": 10,
     "metadata": {},
     "output_type": "execute_result"
    }
   ],
   "source": [
    "#Verificando se ainda existem valores ausentes\n",
    "df.isnull().sum()"
   ]
  },
  {
   "cell_type": "code",
   "execution_count": 11,
   "metadata": {},
   "outputs": [
    {
     "data": {
      "text/plain": [
       "5225"
      ]
     },
     "execution_count": 11,
     "metadata": {},
     "output_type": "execute_result"
    }
   ],
   "source": [
    "# Verificando valores duplicados\n",
    "df.duplicated().sum()"
   ]
  },
  {
   "cell_type": "markdown",
   "metadata": {},
   "source": [
    "Conforme observamos acima, possuímos 5225 valores duplicados. Encontramos mais um problema que pode distorcer nas análises posteriores. Assim, optamos por também excluir estas linhas conforme a codificação abaixo:"
   ]
  },
  {
   "cell_type": "code",
   "execution_count": 12,
   "metadata": {},
   "outputs": [],
   "source": [
    "#Excluindo as linhas duplicadas\n",
    "df.drop_duplicates(inplace=True)"
   ]
  },
  {
   "cell_type": "code",
   "execution_count": 13,
   "metadata": {},
   "outputs": [
    {
     "name": "stdout",
     "output_type": "stream",
     "text": [
      "<class 'pandas.core.frame.DataFrame'>\n",
      "Index: 401604 entries, 0 to 541908\n",
      "Data columns (total 8 columns):\n",
      " #   Column         Non-Null Count   Dtype         \n",
      "---  ------         --------------   -----         \n",
      " 0   NumeroFatura   401604 non-null  object        \n",
      " 1   CodigoProduto  401604 non-null  object        \n",
      " 2   Descricao      401604 non-null  object        \n",
      " 3   Quantidade     401604 non-null  int64         \n",
      " 4   DataFatura     401604 non-null  datetime64[ns]\n",
      " 5   PrecoUnitario  401604 non-null  float64       \n",
      " 6   IDCliente      401604 non-null  float64       \n",
      " 7   Pais           401604 non-null  object        \n",
      "dtypes: datetime64[ns](1), float64(2), int64(1), object(4)\n",
      "memory usage: 27.6+ MB\n"
     ]
    }
   ],
   "source": [
    "# Conferindo novamente o DataFrame\n",
    "df.info()"
   ]
  },
  {
   "cell_type": "code",
   "execution_count": 14,
   "metadata": {},
   "outputs": [
    {
     "data": {
      "text/plain": [
       "3684"
      ]
     },
     "execution_count": 14,
     "metadata": {},
     "output_type": "execute_result"
    }
   ],
   "source": [
    "# Verificar CodigoProduos unicos e quantos são  \n",
    "df['CodigoProduto'].nunique()"
   ]
  },
  {
   "cell_type": "code",
   "execution_count": 15,
   "metadata": {},
   "outputs": [
    {
     "data": {
      "text/plain": [
       "3896"
      ]
     },
     "execution_count": 15,
     "metadata": {},
     "output_type": "execute_result"
    }
   ],
   "source": [
    "# Verificar Descricao unicas e quantos são\n",
    "df['Descricao'].nunique()"
   ]
  },
  {
   "cell_type": "markdown",
   "metadata": {},
   "source": [
    "\n",
    "Dada a grande quantidade de produtos, é essencial simplificar as análises subsequentes. Para isso, faremos uma limpeza na coluna 'Descrição' para remover caracteres especiais e normalizar o texto. Em seguida, utilizaremos a técnica TF-IDF (Term Frequency-Inverse Document Frequency) para transformar as descrições dos produtos em vetores numéricos. Com esses vetores, aplicaremos um algoritmo de clusterização para criar uma nova coluna de categorias. Essa nova coluna permitirá visualizações mais claras, distinção eficaz dos produtos e facilitará a geração de insights acionáveis de maneira mais abrangente"
   ]
  },
  {
   "cell_type": "code",
   "execution_count": 16,
   "metadata": {},
   "outputs": [],
   "source": [
    "# Função para limpar as descrições\n",
    "def limpar_descricao(descricao):\n",
    "    descricao = descricao.lower()  # Converter para minúsculas\n",
    "    descricao = re.sub(r'[^a-z\\s]', '', descricao)  # Remover caracteres especiais e números\n",
    "    return descricao\n",
    "\n",
    "# Aplicar a função de limpeza às descrições\n",
    "df['DescricaoLimpa'] = df['Descricao'].apply(limpar_descricao)\n"
   ]
  },
  {
   "cell_type": "code",
   "execution_count": 17,
   "metadata": {},
   "outputs": [
    {
     "name": "stdout",
     "output_type": "stream",
     "text": [
      "<class 'pandas.core.frame.DataFrame'>\n",
      "Index: 401604 entries, 0 to 541908\n",
      "Data columns (total 9 columns):\n",
      " #   Column          Non-Null Count   Dtype         \n",
      "---  ------          --------------   -----         \n",
      " 0   NumeroFatura    401604 non-null  object        \n",
      " 1   CodigoProduto   401604 non-null  object        \n",
      " 2   Descricao       401604 non-null  object        \n",
      " 3   Quantidade      401604 non-null  int64         \n",
      " 4   DataFatura      401604 non-null  datetime64[ns]\n",
      " 5   PrecoUnitario   401604 non-null  float64       \n",
      " 6   IDCliente       401604 non-null  float64       \n",
      " 7   Pais            401604 non-null  object        \n",
      " 8   DescricaoLimpa  401604 non-null  object        \n",
      "dtypes: datetime64[ns](1), float64(2), int64(1), object(5)\n",
      "memory usage: 30.6+ MB\n"
     ]
    }
   ],
   "source": [
    "df.info()"
   ]
  },
  {
   "cell_type": "markdown",
   "metadata": {},
   "source": [
    "# Vetorização usando TF-IDF"
   ]
  },
  {
   "cell_type": "code",
   "execution_count": 18,
   "metadata": {},
   "outputs": [],
   "source": [
    "# Tokenizar e vetorizar as descrições\n",
    "vectorizer = TfidfVectorizer(stop_words='english')\n",
    "X = vectorizer.fit_transform(df['DescricaoLimpa'])\n"
   ]
  },
  {
   "cell_type": "markdown",
   "metadata": {},
   "source": [
    "Definindo o número ideial de clusters sendo a variável X equivalente à DescricaoLimpa"
   ]
  },
  {
   "cell_type": "code",
   "execution_count": 19,
   "metadata": {},
   "outputs": [
    {
     "data": {
      "image/png": "[encoded data removed]",
      "text/plain": [
       "<Figure size 1000x500 with 1 Axes>"
      ]
     },
     "metadata": {},
     "output_type": "display_data"
    }
   ],
   "source": [
    "# Definir o intervalo de possíveis valores de clusters\n",
    "k_values = range(1, 21)\n",
    "inertia_values = []\n",
    "\n",
    "for k in k_values:\n",
    "    kmeans = KMeans(n_clusters=k, random_state=42)\n",
    "    kmeans.fit(X)\n",
    "    inertia_values.append(kmeans.inertia_)\n",
    "\n",
    "# Plotar o gráfico do método do cotovelo\n",
    "plt.figure(figsize=(10, 5))\n",
    "plt.plot(k_values, inertia_values, 'bx-')\n",
    "plt.xlabel('Número de Clusters (k)')\n",
    "plt.ylabel('Inertia')\n",
    "plt.title('Método do Cotovelo para Determinação do Número de Clusters')\n",
    "plt.show()"
   ]
  },
  {
   "cell_type": "code",
   "execution_count": 20,
   "metadata": {},
   "outputs": [],
   "source": [
    "# Definir o número de clusters baseado no método do cotovelo\n",
    "num_clusters = 8\n",
    "\n",
    "# Aplicar K-means com o número de clusters selecionado\n",
    "kmeans = KMeans(n_clusters=num_clusters, random_state=42)\n",
    "df['Cluster'] = kmeans.fit_predict(X)"
   ]
  },
  {
   "cell_type": "code",
   "execution_count": 21,
   "metadata": {},
   "outputs": [
    {
     "name": "stdout",
     "output_type": "stream",
     "text": [
      "Cluster\n",
      "0     39932\n",
      "1    237441\n",
      "2     11274\n",
      "3     17120\n",
      "4     22834\n",
      "5     23406\n",
      "6     32149\n",
      "7     17448\n",
      "dtype: int64\n",
      "Cluster 0:\n",
      "    CodigoProduto                          Descricao\n",
      "5           22752       SET 7 BABUSHKA NESTING BOXES\n",
      "21          22960           JAM MAKING SET WITH JARS\n",
      "40          22900    SET 2 TEA TOWELS I LOVE LONDON \n",
      "46          22086    PAPER CHAIN KIT 50'S CHRISTMAS \n",
      "63          22752       SET 7 BABUSHKA NESTING BOXES\n",
      "80          22752       SET 7 BABUSHKA NESTING BOXES\n",
      "91         84997C  BLUE 3 PIECE POLKADOT CUTLERY SET\n",
      "92          21094      SET/6 RED SPOTTY PAPER PLATES\n",
      "100        84519A    TOMATO CHARLIE+LOLA COASTER SET\n",
      "105         22961             JAM MAKING SET PRINTED\n",
      "\n",
      "\n",
      "Cluster 1:\n",
      "   CodigoProduto                            Descricao\n",
      "2         84406B       CREAM CUPID HEARTS COAT HANGER\n",
      "3         84029G  KNITTED UNION FLAG HOT WATER BOTTLE\n",
      "7          22633               HAND WARMER UNION JACK\n",
      "8          22632            HAND WARMER RED POLKA DOT\n",
      "9          84879        ASSORTED COLOUR BIRD ORNAMENT\n",
      "10         22745           POPPY'S PLAYHOUSE BEDROOM \n",
      "11         22748            POPPY'S PLAYHOUSE KITCHEN\n",
      "12         22749    FELTCRAFT PRINCESS CHARLOTTE DOLL\n",
      "13         22310              IVORY KNITTED MUG COSY \n",
      "14         84969   BOX OF 6 ASSORTED COLOUR TEASPOONS\n",
      "\n",
      "\n",
      "Cluster 2:\n",
      "    CodigoProduto                            Descricao\n",
      "34          22326  ROUND SNACK BOXES SET OF4 WOODLAND \n",
      "151         22839      3 TIER CAKE TIN GREEN AND CREAM\n",
      "152         22838        3 TIER CAKE TIN RED AND CREAM\n",
      "235         22556       PLASTERS IN TIN CIRCUS PARADE \n",
      "240         22557     PLASTERS IN TIN VINTAGE PAISLEY \n",
      "241         22553               PLASTERS IN TIN SKULLS\n",
      "328        17091A              LAVENDER INCENSE IN TIN\n",
      "370         20726                   LUNCH BAG WOODLAND\n",
      "472         22553               PLASTERS IN TIN SKULLS\n",
      "543         22326  ROUND SNACK BOXES SET OF4 WOODLAND \n",
      "\n",
      "\n",
      "Cluster 3:\n",
      "   CodigoProduto                           Descricao\n",
      "1          71053                 WHITE METAL LANTERN\n",
      "4         84029E      RED WOOLLY HOTTIE WHITE HEART.\n",
      "50         71053                 WHITE METAL LANTERN\n",
      "57         82483  WOOD 2 DRAWER CABINET WHITE FINISH\n",
      "58         82486   WOOD S/3 CABINET ANT WHITE FINISH\n",
      "59         82482   WOODEN PICTURE FRAME WHITE FINISH\n",
      "60        82494L         WOODEN FRAME ANTIQUE WHITE \n",
      "62        84029E      RED WOOLLY HOTTIE WHITE HEART.\n",
      "67         71053                 WHITE METAL LANTERN\n",
      "74         82483  WOOD 2 DRAWER CABINET WHITE FINISH\n",
      "\n",
      "\n",
      "Cluster 4:\n",
      "    CodigoProduto                           Descricao\n",
      "15          22623       BOX OF VINTAGE JIGSAW BLOCKS \n",
      "16          22622      BOX OF VINTAGE ALPHABET BLOCKS\n",
      "32          21791  VINTAGE HEADS AND TAILS CARD GAME \n",
      "41          21913      VINTAGE SEASIDE JIGSAW PUZZLES\n",
      "44          22492             MINI PAINT SET VINTAGE \n",
      "55          21071      VINTAGE BILLBOARD DRINK ME MUG\n",
      "56          21068     VINTAGE BILLBOARD LOVE/HATE MUG\n",
      "72          21071      VINTAGE BILLBOARD DRINK ME MUG\n",
      "73          21068     VINTAGE BILLBOARD LOVE/HATE MUG\n",
      "104         21929      JUMBO BAG PINK VINTAGE PAISLEY\n",
      "\n",
      "\n",
      "Cluster 5:\n",
      "    CodigoProduto                          Descricao\n",
      "27          22727          ALARM CLOCK BAKELIKE RED \n",
      "33          21035    SET/2 RED RETROSPOT TEA TOWELS \n",
      "52          20679              EDWARDIAN PARASOL RED\n",
      "69          20679              EDWARDIAN PARASOL RED\n",
      "90         84997B  RED 3 PIECE RETROSPOT CUTLERY SET\n",
      "93          20725            LUNCH BAG RED RETROSPOT\n",
      "95          22352  LUNCH BOX WITH CUTLERY RETROSPOT \n",
      "115         22637              PIGGY BANK RETROSPOT \n",
      "130         21533           RETROSPOT LARGE MILK JUG\n",
      "146         22379           RECYCLING BAG RETROSPOT \n",
      "\n",
      "\n",
      "Cluster 6:\n",
      "    CodigoProduto                            Descricao\n",
      "0          85123A   WHITE HANGING HEART T-LIGHT HOLDER\n",
      "6           21730    GLASS STAR FROSTED T-LIGHT HOLDER\n",
      "19          21777          RECIPE BOX WITH METAL HEART\n",
      "49         85123A   WHITE HANGING HEART T-LIGHT HOLDER\n",
      "64          21730    GLASS STAR FROSTED T-LIGHT HOLDER\n",
      "66         85123A   WHITE HANGING HEART T-LIGHT HOLDER\n",
      "81          21730    GLASS STAR FROSTED T-LIGHT HOLDER\n",
      "83          21733     RED HANGING HEART T-LIGHT HOLDER\n",
      "124        84971S            SMALL HEART FLOWERS HOOK \n",
      "156         84755  COLOUR GLASS T-LIGHT HOLDER HANGING\n",
      "\n",
      "\n",
      "Cluster 7:\n",
      "    CodigoProduto                           Descricao\n",
      "96          21212     PACK OF 72 RETROSPOT CAKE CASES\n",
      "97          21975      PACK OF 60 DINOSAUR CAKE CASES\n",
      "98          21977  PACK OF 60 PINK PAISLEY CAKE CASES\n",
      "99          84991         60 TEATIME FAIRY CAKE CASES\n",
      "236         21984    PACK OF 12 PINK PAISLEY TISSUES \n",
      "237         21983    PACK OF 12 BLUE PAISLEY TISSUES \n",
      "260         22558     CLOTHES PEGS RETROSPOT PACK 24 \n",
      "266         21977  PACK OF 60 PINK PAISLEY CAKE CASES\n",
      "267         84991         60 TEATIME FAIRY CAKE CASES\n",
      "268         21212     PACK OF 72 RETROSPOT CAKE CASES\n",
      "\n",
      "\n"
     ]
    }
   ],
   "source": [
    "# Agrupar por categoria e contar o número de produtos em cada cluster\n",
    "produtos_por_categoria = df.groupby('Cluster').size()\n",
    "print(produtos_por_categoria)\n",
    "\n",
    "# Mostrar alguns produtos de cada cluster\n",
    "for cluster_num in range(num_clusters):\n",
    "    print(f\"Cluster {cluster_num}:\")\n",
    "    produtos_no_cluster = df[df['Cluster'] == cluster_num][['CodigoProduto', 'Descricao']].head(10)\n",
    "    print(produtos_no_cluster)\n",
    "    print(\"\\n\")"
   ]
  },
  {
   "cell_type": "markdown",
   "metadata": {},
   "source": [
    "Análise dos Produtos em Cada Cluster"
   ]
  },
  {
   "cell_type": "code",
   "execution_count": 22,
   "metadata": {},
   "outputs": [
    {
     "name": "stdout",
     "output_type": "stream",
     "text": [
      "Cluster 0:\n",
      "Palavras mais comuns no Cluster 0: [('set', 38044), ('of', 16984), ('paper', 5561), ('retrospot', 3394), ('tins', 2812), ('tea', 2624), ('pantry', 2592), ('wooden', 2562), ('baking', 2325), ('kit', 2152), ('jam', 2071), ('design', 2044), ('chain', 2001), ('heart', 1956), ('making', 1849), ('cookie', 1773), ('cutters', 1674), ('party', 1653), ('candles', 1632), ('piece', 1631)]\n",
      "\n",
      "Cluster 1:\n",
      "Palavras mais comuns no Cluster 1: [('bag', 22186), ('design', 16691), ('pink', 14928), ('metal', 14262), ('box', 14117), ('sign', 12682), ('blue', 11842), ('lunch', 11162), ('christmas', 9544), ('jumbo', 8660), ('card', 7866), ('polkadot', 7359), ('home', 7209), ('bottle', 7000), ('of', 6844), ('hot', 6403), ('and', 6216), ('regency', 6208), ('feltcraft', 6084), ('water', 6031)]\n",
      "\n",
      "Cluster 2:\n",
      "Palavras mais comuns no Cluster 2: [('tin', 7521), ('woodland', 4353), ('in', 3569), ('plasters', 3141), ('vintage', 2149), ('bag', 1985), ('round', 1188), ('biscuit', 1125), ('animals', 1106), ('lunch', 850), ('red', 792), ('cake', 771), ('tube', 648), ('snack', 613), ('boxes', 613), ('set', 613), ('of', 613), ('spaceboy', 594), ('storage', 585), ('charlotte', 546)]\n",
      "\n",
      "Cluster 3:\n",
      "Palavras mais comuns no Cluster 3: [('white', 13901), ('drawer', 4570), ('knob', 3824), ('heart', 2460), ('finish', 2460), ('wood', 2250), ('ceramic', 2234), ('frame', 2194), ('wooden', 1732), ('antique', 1683), ('red', 1568), ('black', 1464), ('wicker', 1408), ('blue', 1233), ('picture', 1202), ('spot', 1196), ('cabinet', 1137), ('of', 1129), ('ant', 1071), ('acrylic', 878)]\n",
      "\n",
      "Cluster 4:\n",
      "Palavras mais comuns no Cluster 4: [('vintage', 22146), ('bag', 6552), ('christmas', 5062), ('jumbo', 4092), ('doily', 2747), ('of', 2461), ('paisley', 2431), ('set', 2257), ('red', 2167), ('leaf', 2080), ('kit', 1292), ('lunch', 1287), ('pink', 1206), ('card', 1179), ('paper', 1120), ('union', 1032), ('jack', 1032), ('design', 1013), ('bunting', 997), ('wrap', 936)]\n",
      "\n",
      "Cluster 5:\n",
      "Palavras mais comuns no Cluster 5: [('retrospot', 19778), ('red', 19008), ('bag', 6005), ('box', 1918), ('set', 1878), ('lunch', 1681), ('jumbo', 1659), ('paper', 1527), ('clock', 1342), ('small', 1106), ('tube', 1098), ('napkins', 1070), ('alarm', 917), ('bakelike', 917), ('lid', 807), ('glass', 807), ('bowls', 807), ('pencils', 807), ('charlotte', 764), ('bunting', 747)]\n",
      "\n",
      "Cluster 6:\n",
      "Palavras mais comuns no Cluster 6: [('heart', 23547), ('holder', 11375), ('tlight', 10571), ('hanging', 9307), ('decoration', 4403), ('glass', 3873), ('small', 3696), ('wicker', 3124), ('large', 2854), ('zinc', 2403), ('white', 2182), ('ivory', 2052), ('silver', 1993), ('of', 1923), ('red', 1912), ('love', 1730), ('antique', 1356), ('colour', 1209), ('popcorn', 1178), ('metal', 1165)]\n",
      "\n",
      "Cluster 7:\n",
      "Palavras mais comuns no Cluster 7: [('cake', 13082), ('of', 10943), ('cases', 7897), ('pack', 7489), ('set', 4036), ('design', 3371), ('fairy', 3316), ('tissues', 2458), ('pantry', 2304), ('tins', 2229), ('retrospot', 1715), ('pink', 1525), ('paisley', 1064), ('stand', 976), ('regency', 908), ('skull', 890), ('napkins', 883), ('hanging', 831), ('christmas', 802), ('vintage', 796)]\n",
      "\n"
     ]
    }
   ],
   "source": [
    "from collections import Counter\n",
    "import re\n",
    "\n",
    "def palavras_mais_comuns(descricoes, top_n=20):\n",
    "    todas_palavras = ' '.join(descricoes).lower()\n",
    "    todas_palavras = re.findall(r'\\b\\w+\\b', todas_palavras)  # Pegar apenas palavras\n",
    "    contador_palavras = Counter(todas_palavras)\n",
    "    return contador_palavras.most_common(top_n)\n",
    "\n",
    "# Analisar produtos em cada cluster para identificar padrões\n",
    "palavras_clusters = {}\n",
    "for cluster_num in range(num_clusters):\n",
    "    print(f\"Cluster {cluster_num}:\")\n",
    "    produtos_no_cluster = df[df['Cluster'] == cluster_num]['DescricaoLimpa']\n",
    "    palavras_comuns = palavras_mais_comuns(produtos_no_cluster, top_n=20)\n",
    "    palavras_clusters[cluster_num] = palavras_comuns\n",
    "    print(f\"Palavras mais comuns no Cluster {cluster_num}: {palavras_comuns}\\n\")\n"
   ]
  },
  {
   "cell_type": "code",
   "execution_count": 23,
   "metadata": {},
   "outputs": [
    {
     "data": {
      "text/plain": [
       "Index(['NumeroFatura', 'CodigoProduto', 'Descricao', 'Quantidade',\n",
       "       'DataFatura', 'PrecoUnitario', 'IDCliente', 'Pais', 'DescricaoLimpa',\n",
       "       'Cluster'],\n",
       "      dtype='object')"
      ]
     },
     "execution_count": 23,
     "metadata": {},
     "output_type": "execute_result"
    }
   ],
   "source": [
    "df.columns"
   ]
  },
  {
   "cell_type": "markdown",
   "metadata": {},
   "source": [
    "Agora, com base nas palvaras mais comuns em cada cluster, podemos agrupá-las em uma categoria específica. Além disso, renomearemos a coluna cluster para Categoria "
   ]
  },
  {
   "cell_type": "code",
   "execution_count": 24,
   "metadata": {},
   "outputs": [
    {
     "name": "stdout",
     "output_type": "stream",
     "text": [
      "Categoria\n",
      "Acessórios para Bolos, Festas e Decoração       17448\n",
      "Bolsas, Decoração e Presentes                  237441\n",
      "Conjuntos e Kits para Cozinha e Confeitaria     39932\n",
      "Decoração de Interiores e Móveis                17120\n",
      "Decoração e Iluminação                          32149\n",
      "Latas, Vintage e Brinquedos                     11274\n",
      "Sacolas, Lanches e Utilidades Retrospot         23406\n",
      "Vintage, Natal e Decoração                      22834\n",
      "dtype: int64\n"
     ]
    }
   ],
   "source": [
    "nomes_clusters = {\n",
    "    0: 'Conjuntos e Kits para Cozinha e Confeitaria',\n",
    "    1: 'Bolsas, Decoração e Presentes',\n",
    "    2: 'Latas, Vintage e Brinquedos',\n",
    "    3: 'Decoração de Interiores e Móveis',\n",
    "    4: 'Vintage, Natal e Decoração',\n",
    "    5: 'Sacolas, Lanches e Utilidades Retrospot',\n",
    "    6: 'Decoração e Iluminação',\n",
    "    7: 'Acessórios para Bolos, Festas e Decoração',\n",
    "}\n",
    "\n",
    "# Atribuir os nomes aos clusters no DataFrame\n",
    "df['Categoria'] = df['Cluster'].map(nomes_clusters)\n",
    "\n",
    "# Remover a coluna 'Cluster'\n",
    "df = df.drop(columns=['Cluster'])\n",
    "\n",
    "# Contar a quantidade de dados em cada cluster\n",
    "produtos_por_categoria = df.groupby('Categoria').size()\n",
    "print(produtos_por_categoria)"
   ]
  },
  {
   "cell_type": "markdown",
   "metadata": {},
   "source": [
    "Com base nas categorias acima, identificamos que Bolsas, Decoração e Presentes são os produtos mais representativos em nossa base de dados."
   ]
  },
  {
   "cell_type": "code",
   "execution_count": 25,
   "metadata": {},
   "outputs": [
    {
     "name": "stdout",
     "output_type": "stream",
     "text": [
      "<class 'pandas.core.frame.DataFrame'>\n",
      "Index: 401604 entries, 0 to 541908\n",
      "Data columns (total 10 columns):\n",
      " #   Column          Non-Null Count   Dtype         \n",
      "---  ------          --------------   -----         \n",
      " 0   NumeroFatura    401604 non-null  object        \n",
      " 1   CodigoProduto   401604 non-null  object        \n",
      " 2   Descricao       401604 non-null  object        \n",
      " 3   Quantidade      401604 non-null  int64         \n",
      " 4   DataFatura      401604 non-null  datetime64[ns]\n",
      " 5   PrecoUnitario   401604 non-null  float64       \n",
      " 6   IDCliente       401604 non-null  float64       \n",
      " 7   Pais            401604 non-null  object        \n",
      " 8   DescricaoLimpa  401604 non-null  object        \n",
      " 9   Categoria       401604 non-null  object        \n",
      "dtypes: datetime64[ns](1), float64(2), int64(1), object(6)\n",
      "memory usage: 33.7+ MB\n"
     ]
    }
   ],
   "source": [
    "df.info()"
   ]
  },
  {
   "cell_type": "markdown",
   "metadata": {},
   "source": [
    "A Partir do código acima, observamos que após a criação da coluna Categoria (utilizando TF-IDF e KNN), agora possuímos 8 grupos de produtos definidos conforme as características mais comuns entre si."
   ]
  },
  {
   "cell_type": "markdown",
   "metadata": {},
   "source": [
    "Agora, visualizaremos estatísticas básicas, nosso objetivo será detectar outras anomalias em nossos dados númericos."
   ]
  },
  {
   "cell_type": "code",
   "execution_count": 26,
   "metadata": {},
   "outputs": [
    {
     "data": {
      "text/html": [
       "<div>\n",
       "<style scoped>\n",
       "    .dataframe tbody tr th:only-of-type {\n",
       "        vertical-align: middle;\n",
       "    }\n",
       "\n",
       "    .dataframe tbody tr th {\n",
       "        vertical-align: top;\n",
       "    }\n",
       "\n",
       "    .dataframe thead th {\n",
       "        text-align: right;\n",
       "    }\n",
       "</style>\n",
       "<table border=\"1\" class=\"dataframe\">\n",
       "  <thead>\n",
       "    <tr style=\"text-align: right;\">\n",
       "      <th></th>\n",
       "      <th>count</th>\n",
       "      <th>mean</th>\n",
       "      <th>min</th>\n",
       "      <th>25%</th>\n",
       "      <th>50%</th>\n",
       "      <th>75%</th>\n",
       "      <th>max</th>\n",
       "      <th>std</th>\n",
       "    </tr>\n",
       "  </thead>\n",
       "  <tbody>\n",
       "    <tr>\n",
       "      <th>Quantidade</th>\n",
       "      <td>401604.0</td>\n",
       "      <td>12.183273</td>\n",
       "      <td>-80995.0</td>\n",
       "      <td>2.0</td>\n",
       "      <td>5.0</td>\n",
       "      <td>12.0</td>\n",
       "      <td>80995.0</td>\n",
       "      <td>250.283037</td>\n",
       "    </tr>\n",
       "    <tr>\n",
       "      <th>DataFatura</th>\n",
       "      <td>401604</td>\n",
       "      <td>2011-07-10 12:08:23.848567552</td>\n",
       "      <td>2010-12-01 08:26:00</td>\n",
       "      <td>2011-04-06 15:02:00</td>\n",
       "      <td>2011-07-29 15:40:00</td>\n",
       "      <td>2011-10-20 11:58:30</td>\n",
       "      <td>2011-12-09 12:50:00</td>\n",
       "      <td>NaN</td>\n",
       "    </tr>\n",
       "    <tr>\n",
       "      <th>PrecoUnitario</th>\n",
       "      <td>401604.0</td>\n",
       "      <td>3.474064</td>\n",
       "      <td>0.0</td>\n",
       "      <td>1.25</td>\n",
       "      <td>1.95</td>\n",
       "      <td>3.75</td>\n",
       "      <td>38970.0</td>\n",
       "      <td>69.764035</td>\n",
       "    </tr>\n",
       "    <tr>\n",
       "      <th>IDCliente</th>\n",
       "      <td>401604.0</td>\n",
       "      <td>15281.160818</td>\n",
       "      <td>12346.0</td>\n",
       "      <td>13939.0</td>\n",
       "      <td>15145.0</td>\n",
       "      <td>16784.0</td>\n",
       "      <td>18287.0</td>\n",
       "      <td>1714.006089</td>\n",
       "    </tr>\n",
       "  </tbody>\n",
       "</table>\n",
       "</div>"
      ],
      "text/plain": [
       "                  count                           mean                  min   \n",
       "Quantidade     401604.0                      12.183273             -80995.0  \\\n",
       "DataFatura       401604  2011-07-10 12:08:23.848567552  2010-12-01 08:26:00   \n",
       "PrecoUnitario  401604.0                       3.474064                  0.0   \n",
       "IDCliente      401604.0                   15281.160818              12346.0   \n",
       "\n",
       "                               25%                  50%                  75%   \n",
       "Quantidade                     2.0                  5.0                 12.0  \\\n",
       "DataFatura     2011-04-06 15:02:00  2011-07-29 15:40:00  2011-10-20 11:58:30   \n",
       "PrecoUnitario                 1.25                 1.95                 3.75   \n",
       "IDCliente                  13939.0              15145.0              16784.0   \n",
       "\n",
       "                               max          std  \n",
       "Quantidade                 80995.0   250.283037  \n",
       "DataFatura     2011-12-09 12:50:00          NaN  \n",
       "PrecoUnitario              38970.0    69.764035  \n",
       "IDCliente                  18287.0  1714.006089  "
      ]
     },
     "execution_count": 26,
     "metadata": {},
     "output_type": "execute_result"
    }
   ],
   "source": [
    "df.describe().T"
   ]
  },
  {
   "cell_type": "markdown",
   "metadata": {},
   "source": [
    "Podemos observar algumas inconscistências que devem ser mais investigadas a fundo. Abaixo, trataremos cada um dos problemas encontrados:"
   ]
  },
  {
   "cell_type": "markdown",
   "metadata": {},
   "source": [
    "1. Preço Unitário (PrecoUnitario):\n",
    "min = 0.0: Ter um preço unitário igual a zero pode indicar um erro na coleta de dados. É improvável que um produto seja vendido por zero."
   ]
  },
  {
   "cell_type": "code",
   "execution_count": 27,
   "metadata": {},
   "outputs": [
    {
     "name": "stdout",
     "output_type": "stream",
     "text": [
      "Categoria\n",
      "Acessórios para Bolos, Festas e Decoração       2\n",
      "Bolsas, Decoração e Presentes                  19\n",
      "Conjuntos e Kits para Cozinha e Confeitaria     8\n",
      "Decoração de Interiores e Móveis                1\n",
      "Decoração e Iluminação                          3\n",
      "Latas, Vintage e Brinquedos                     4\n",
      "Sacolas, Lanches e Utilidades Retrospot         2\n",
      "Vintage, Natal e Decoração                      1\n",
      "dtype: int64\n"
     ]
    }
   ],
   "source": [
    "df_zero_preco = df[df['PrecoUnitario'] == 0]\n",
    "produtos_por_categoria = df_zero_preco.groupby('Categoria').size()\n",
    "print(produtos_por_categoria)"
   ]
  },
  {
   "cell_type": "markdown",
   "metadata": {},
   "source": [
    "Com base nos resultados acima, observamos que a quantidade de produtos com valor 0 não é substancial. Estes dados podem ser 'cortesia', porém, isso parece improvável sendo mais provável erros de digitação. Assim, nossa abordagem será excluir estes valores já que não colaboram com nossas análises."
   ]
  },
  {
   "cell_type": "code",
   "execution_count": 28,
   "metadata": {},
   "outputs": [],
   "source": [
    "# Excluindo linhas com PrecoUnitario igual a zero\n",
    "df = df[df['PrecoUnitario'] != 0]"
   ]
  },
  {
   "cell_type": "markdown",
   "metadata": {},
   "source": [
    "Nosso segundo problema foi encontrado em DataFatura com valores NaN. Agora investigaremos esta questão:"
   ]
  },
  {
   "cell_type": "code",
   "execution_count": 29,
   "metadata": {},
   "outputs": [
    {
     "name": "stdout",
     "output_type": "stream",
     "text": [
      "Número de linhas com data faltante: 0\n"
     ]
    }
   ],
   "source": [
    "# Verificando valores NaN na coluna 'DataFatura'\n",
    "datas_faltantes = df['DataFatura'].isna().sum()\n",
    "print(f\"Número de linhas com data faltante: {datas_faltantes}\")"
   ]
  },
  {
   "cell_type": "markdown",
   "metadata": {},
   "source": [
    "Observamos que não possuímos valores NaN em DataFatura, isso é resultado pela forma com que o Describe() lida com tipo de dados Datetime, portanto, não temos nenhum problema aqui."
   ]
  },
  {
   "cell_type": "code",
   "execution_count": 30,
   "metadata": {},
   "outputs": [
    {
     "name": "stdout",
     "output_type": "stream",
     "text": [
      "Número de linhas com fatura faltante: 0\n"
     ]
    }
   ],
   "source": [
    "\n",
    "faturas_faltantes = df['NumeroFatura'].isna().sum()\n",
    "print(f\"Número de linhas com fatura faltante: {faturas_faltantes}\")"
   ]
  },
  {
   "cell_type": "code",
   "execution_count": 31,
   "metadata": {},
   "outputs": [
    {
     "name": "stdout",
     "output_type": "stream",
     "text": [
      "Número de linhas com quantidade negativa: 8872\n"
     ]
    }
   ],
   "source": [
    "# Contando linhas com Quantidade negativa\n",
    "quantidade_negativa = df[df['Quantidade'] < 0].shape[0]\n",
    "print(f\"Número de linhas com quantidade negativa: {quantidade_negativa}\")\n"
   ]
  },
  {
   "cell_type": "markdown",
   "metadata": {},
   "source": [
    "Observamos uma quantidade substancial de valores negativos na coluna Quantidade. Inicialmente, esses valores poderiam indicar erros de digitação. No entanto, conforme os requisitos do cliente, é necessário apresentar as devoluções. Portanto, é mais provável que esses valores negativos representem devoluções de produtos. Para atender a essa necessidade, criaremos duas novas colunas: Venda, para indicar as transações efetivadas, e Devolucao, para indicar as transações que são devoluções. "
   ]
  },
  {
   "cell_type": "code",
   "execution_count": 32,
   "metadata": {},
   "outputs": [
    {
     "name": "stdout",
     "output_type": "stream",
     "text": [
      "Primeiras linhas do DataFrame após adicionar as colunas Devolucao e Venda:\n",
      "  NumeroFatura CodigoProduto                            Descricao  Quantidade   \n",
      "0       536365        85123A   WHITE HANGING HEART T-LIGHT HOLDER           6  \\\n",
      "1       536365         71053                  WHITE METAL LANTERN           6   \n",
      "2       536365        84406B       CREAM CUPID HEARTS COAT HANGER           8   \n",
      "3       536365        84029G  KNITTED UNION FLAG HOT WATER BOTTLE           6   \n",
      "4       536365        84029E       RED WOOLLY HOTTIE WHITE HEART.           6   \n",
      "\n",
      "           DataFatura  PrecoUnitario  IDCliente            Pais   \n",
      "0 2010-12-01 08:26:00           2.55    17850.0  United Kingdom  \\\n",
      "1 2010-12-01 08:26:00           3.39    17850.0  United Kingdom   \n",
      "2 2010-12-01 08:26:00           2.75    17850.0  United Kingdom   \n",
      "3 2010-12-01 08:26:00           3.39    17850.0  United Kingdom   \n",
      "4 2010-12-01 08:26:00           3.39    17850.0  United Kingdom   \n",
      "\n",
      "                        DescricaoLimpa                         Categoria   \n",
      "0    white hanging heart tlight holder            Decoração e Iluminação  \\\n",
      "1                  white metal lantern  Decoração de Interiores e Móveis   \n",
      "2       cream cupid hearts coat hanger     Bolsas, Decoração e Presentes   \n",
      "3  knitted union flag hot water bottle     Bolsas, Decoração e Presentes   \n",
      "4        red woolly hottie white heart  Decoração de Interiores e Móveis   \n",
      "\n",
      "   Devolucao  Venda  \n",
      "0      False   True  \n",
      "1      False   True  \n",
      "2      False   True  \n",
      "3      False   True  \n",
      "4      False   True  \n"
     ]
    }
   ],
   "source": [
    "# Adicionar uma coluna para indicar se a transação é uma devolução\n",
    "df['Devolucao'] = df['Quantidade'].apply(lambda x: True if x < 0 else False)\n",
    "\n",
    "# Adicionar uma coluna para indicar se a transação é uma venda (oposto da coluna Devolucao)\n",
    "df['Venda'] = df['Devolucao'].apply(lambda x: not x)\n",
    "\n",
    "# Mostrar algumas linhas do DataFrame para verificar as novas colunas\n",
    "print(\"Primeiras linhas do DataFrame após adicionar as colunas Devolucao e Venda:\")\n",
    "print(df.head())"
   ]
  },
  {
   "cell_type": "code",
   "execution_count": 33,
   "metadata": {},
   "outputs": [
    {
     "name": "stdout",
     "output_type": "stream",
     "text": [
      "Contagem de transações que são devoluções:\n",
      "Devolucao\n",
      "False    392692\n",
      "True       8872\n",
      "Name: count, dtype: int64\n"
     ]
    }
   ],
   "source": [
    "# Contagem de transações que são devoluções\n",
    "print(\"Contagem de transações que são devoluções:\")\n",
    "print(df['Devolucao'].value_counts())"
   ]
  },
  {
   "cell_type": "code",
   "execution_count": 34,
   "metadata": {},
   "outputs": [
    {
     "name": "stdout",
     "output_type": "stream",
     "text": [
      "Contagem de transações que são vendas:\n",
      "Venda\n",
      "True     392692\n",
      "False      8872\n",
      "Name: count, dtype: int64\n"
     ]
    }
   ],
   "source": [
    "# Contagem de transações que são devoluções\n",
    "print(\"Contagem de transações que são vendas:\")\n",
    "print(df['Venda'].value_counts())"
   ]
  },
  {
   "cell_type": "markdown",
   "metadata": {},
   "source": [
    "Acima, observamos que possuímos 392692 vendas e 8872 devoluções."
   ]
  },
  {
   "cell_type": "code",
   "execution_count": 35,
   "metadata": {},
   "outputs": [
    {
     "name": "stdout",
     "output_type": "stream",
     "text": [
      "<class 'pandas.core.frame.DataFrame'>\n",
      "Index: 401564 entries, 0 to 541908\n",
      "Data columns (total 12 columns):\n",
      " #   Column          Non-Null Count   Dtype         \n",
      "---  ------          --------------   -----         \n",
      " 0   NumeroFatura    401564 non-null  object        \n",
      " 1   CodigoProduto   401564 non-null  object        \n",
      " 2   Descricao       401564 non-null  object        \n",
      " 3   Quantidade      401564 non-null  int64         \n",
      " 4   DataFatura      401564 non-null  datetime64[ns]\n",
      " 5   PrecoUnitario   401564 non-null  float64       \n",
      " 6   IDCliente       401564 non-null  float64       \n",
      " 7   Pais            401564 non-null  object        \n",
      " 8   DescricaoLimpa  401564 non-null  object        \n",
      " 9   Categoria       401564 non-null  object        \n",
      " 10  Devolucao       401564 non-null  bool          \n",
      " 11  Venda           401564 non-null  bool          \n",
      "dtypes: bool(2), datetime64[ns](1), float64(2), int64(1), object(6)\n",
      "memory usage: 34.5+ MB\n"
     ]
    }
   ],
   "source": [
    "df.info()"
   ]
  },
  {
   "cell_type": "code",
   "execution_count": 36,
   "metadata": {},
   "outputs": [
    {
     "data": {
      "text/html": [
       "<div>\n",
       "<style scoped>\n",
       "    .dataframe tbody tr th:only-of-type {\n",
       "        vertical-align: middle;\n",
       "    }\n",
       "\n",
       "    .dataframe tbody tr th {\n",
       "        vertical-align: top;\n",
       "    }\n",
       "\n",
       "    .dataframe thead th {\n",
       "        text-align: right;\n",
       "    }\n",
       "</style>\n",
       "<table border=\"1\" class=\"dataframe\">\n",
       "  <thead>\n",
       "    <tr style=\"text-align: right;\">\n",
       "      <th></th>\n",
       "      <th>count</th>\n",
       "      <th>mean</th>\n",
       "      <th>min</th>\n",
       "      <th>25%</th>\n",
       "      <th>50%</th>\n",
       "      <th>75%</th>\n",
       "      <th>max</th>\n",
       "      <th>std</th>\n",
       "    </tr>\n",
       "  </thead>\n",
       "  <tbody>\n",
       "    <tr>\n",
       "      <th>Quantidade</th>\n",
       "      <td>401564.0</td>\n",
       "      <td>12.149911</td>\n",
       "      <td>-80995.0</td>\n",
       "      <td>2.0</td>\n",
       "      <td>5.0</td>\n",
       "      <td>12.0</td>\n",
       "      <td>80995.0</td>\n",
       "      <td>249.512649</td>\n",
       "    </tr>\n",
       "    <tr>\n",
       "      <th>DataFatura</th>\n",
       "      <td>401564</td>\n",
       "      <td>2011-07-10 12:06:07.514567936</td>\n",
       "      <td>2010-12-01 08:26:00</td>\n",
       "      <td>2011-04-06 15:02:00</td>\n",
       "      <td>2011-07-29 15:32:30</td>\n",
       "      <td>2011-10-20 11:58:00</td>\n",
       "      <td>2011-12-09 12:50:00</td>\n",
       "      <td>NaN</td>\n",
       "    </tr>\n",
       "    <tr>\n",
       "      <th>PrecoUnitario</th>\n",
       "      <td>401564.0</td>\n",
       "      <td>3.47441</td>\n",
       "      <td>0.001</td>\n",
       "      <td>1.25</td>\n",
       "      <td>1.95</td>\n",
       "      <td>3.75</td>\n",
       "      <td>38970.0</td>\n",
       "      <td>69.767501</td>\n",
       "    </tr>\n",
       "    <tr>\n",
       "      <th>IDCliente</th>\n",
       "      <td>401564.0</td>\n",
       "      <td>15281.266797</td>\n",
       "      <td>12346.0</td>\n",
       "      <td>13939.0</td>\n",
       "      <td>15145.0</td>\n",
       "      <td>16788.0</td>\n",
       "      <td>18287.0</td>\n",
       "      <td>1713.978947</td>\n",
       "    </tr>\n",
       "  </tbody>\n",
       "</table>\n",
       "</div>"
      ],
      "text/plain": [
       "                  count                           mean                  min   \n",
       "Quantidade     401564.0                      12.149911             -80995.0  \\\n",
       "DataFatura       401564  2011-07-10 12:06:07.514567936  2010-12-01 08:26:00   \n",
       "PrecoUnitario  401564.0                        3.47441                0.001   \n",
       "IDCliente      401564.0                   15281.266797              12346.0   \n",
       "\n",
       "                               25%                  50%                  75%   \n",
       "Quantidade                     2.0                  5.0                 12.0  \\\n",
       "DataFatura     2011-04-06 15:02:00  2011-07-29 15:32:30  2011-10-20 11:58:00   \n",
       "PrecoUnitario                 1.25                 1.95                 3.75   \n",
       "IDCliente                  13939.0              15145.0              16788.0   \n",
       "\n",
       "                               max          std  \n",
       "Quantidade                 80995.0   249.512649  \n",
       "DataFatura     2011-12-09 12:50:00          NaN  \n",
       "PrecoUnitario              38970.0    69.767501  \n",
       "IDCliente                  18287.0  1713.978947  "
      ]
     },
     "execution_count": 36,
     "metadata": {},
     "output_type": "execute_result"
    }
   ],
   "source": [
    "df.describe().T"
   ]
  },
  {
   "cell_type": "markdown",
   "metadata": {},
   "source": [
    "Por fim, criaremos uma nova coluna com o valor total e também outra coluna para categorizar produtos com base em seus preços, sendo: Barato, Moderado e Caro"
   ]
  },
  {
   "cell_type": "code",
   "execution_count": 37,
   "metadata": {},
   "outputs": [],
   "source": [
    "# Criar uma coluna que representa o valor total (Quantidade * PrecoUnitario)\n",
    "df['ValorTotal'] = df['Quantidade'] * df['PrecoUnitario']\n",
    "\n",
    "# Categorizar produtos com base no preço unitário\n",
    "def categorize_price(price):\n",
    "    if price < 5:\n",
    "        return 'Barato'\n",
    "    elif price < 20:\n",
    "        return 'Moderado'\n",
    "    else:\n",
    "        return 'Caro'\n",
    "\n",
    "df['CategoriaPreco'] = df['PrecoUnitario'].apply(categorize_price)"
   ]
  },
  {
   "cell_type": "code",
   "execution_count": 38,
   "metadata": {},
   "outputs": [
    {
     "name": "stdout",
     "output_type": "stream",
     "text": [
      "CategoriaPreco\n",
      "Barato      348645\n",
      "Moderado     51560\n",
      "Caro          1359\n",
      "Name: count, dtype: int64\n"
     ]
    }
   ],
   "source": [
    "# Verificar a quantidade de valores em cada categoria\n",
    "categoria_counts = df['CategoriaPreco'].value_counts()\n",
    "print(categoria_counts)"
   ]
  },
  {
   "cell_type": "code",
   "execution_count": 39,
   "metadata": {},
   "outputs": [
    {
     "name": "stdout",
     "output_type": "stream",
     "text": [
      "Valor Total: 8278519.4240000015\n"
     ]
    }
   ],
   "source": [
    "# Verificando o valor total dos produtos vendidos\n",
    "valor_total = df['ValorTotal'].sum()\n",
    "print(f'Valor Total: {valor_total}')"
   ]
  },
  {
   "cell_type": "code",
   "execution_count": 40,
   "metadata": {},
   "outputs": [
    {
     "name": "stdout",
     "output_type": "stream",
     "text": [
      "<class 'pandas.core.frame.DataFrame'>\n",
      "Index: 401564 entries, 0 to 541908\n",
      "Data columns (total 14 columns):\n",
      " #   Column          Non-Null Count   Dtype         \n",
      "---  ------          --------------   -----         \n",
      " 0   NumeroFatura    401564 non-null  object        \n",
      " 1   CodigoProduto   401564 non-null  object        \n",
      " 2   Descricao       401564 non-null  object        \n",
      " 3   Quantidade      401564 non-null  int64         \n",
      " 4   DataFatura      401564 non-null  datetime64[ns]\n",
      " 5   PrecoUnitario   401564 non-null  float64       \n",
      " 6   IDCliente       401564 non-null  float64       \n",
      " 7   Pais            401564 non-null  object        \n",
      " 8   DescricaoLimpa  401564 non-null  object        \n",
      " 9   Categoria       401564 non-null  object        \n",
      " 10  Devolucao       401564 non-null  bool          \n",
      " 11  Venda           401564 non-null  bool          \n",
      " 12  ValorTotal      401564 non-null  float64       \n",
      " 13  CategoriaPreco  401564 non-null  object        \n",
      "dtypes: bool(2), datetime64[ns](1), float64(3), int64(1), object(7)\n",
      "memory usage: 40.6+ MB\n"
     ]
    }
   ],
   "source": [
    "df.info()"
   ]
  },
  {
   "cell_type": "markdown",
   "metadata": {},
   "source": [
    "# Visualização dos dados"
   ]
  },
  {
   "cell_type": "code",
   "execution_count": 41,
   "metadata": {},
   "outputs": [
    {
     "data": {
      "image/png": "[encoded data removed]",
      "text/plain": [
       "<Figure size 2000x500 with 4 Axes>"
      ]
     },
     "metadata": {},
     "output_type": "display_data"
    }
   ],
   "source": [
    "# Configurando o estilo dos plots\n",
    "sns.set(style=\"whitegrid\")\n",
    "\n",
    "# Selecionando colunas numéricas\n",
    "numeric_columns = df.select_dtypes(include=['int64', 'float64']).columns\n",
    "\n",
    "# Criando subplots dinamicamente com base no número de colunas\n",
    "num_plots = len(numeric_columns)\n",
    "fig, axes = plt.subplots(1, num_plots, figsize=(5 * num_plots, 5))\n",
    "\n",
    "# Criando um boxplot para cada coluna numérica\n",
    "for ax, col in zip(axes, numeric_columns):\n",
    "    sns.boxplot(y=df[col], ax=ax)\n",
    "    ax.set_title(f'Boxplot de {col}')\n",
    "\n",
    "plt.tight_layout()\n",
    "plt.show()\n"
   ]
  },
  {
   "cell_type": "markdown",
   "metadata": {},
   "source": [
    "Com base nos boxplots acima, observamos a presença de outliers significativos nas colunas 'Quantidade' e 'PrecoUnitario'. Como a principio nosso objetivo é análise de dados (e não Machine Learning) e como clientes podem comprar muitos ou poucos produtos, nossa abordagem será mantê-los por concluirmos que este é o motivo mais provável."
   ]
  },
  {
   "cell_type": "markdown",
   "metadata": {},
   "source": [
    "# Conclusão Etapa 1"
   ]
  },
  {
   "cell_type": "markdown",
   "metadata": {},
   "source": [
    "Observamos que iniciamos nosso conjunto de dados com 541909 registros e, finalmente após a limpeza, análise dos dados e a criação de 5 novas colunas (\"Categoria\", \"ValorTotal\", \"CategoriaPreco\", \"Venda\", \"Devolucao\"); reduzimos para 392692 registros. Agora, estamos prontos para exportar o DataFrame para um banco de dados SQL. "
   ]
  },
  {
   "cell_type": "markdown",
   "metadata": {},
   "source": [
    "Salvando em 3 DataFrames diferentes para posterior modelagem dos dados "
   ]
  },
  {
   "cell_type": "code",
   "execution_count": 42,
   "metadata": {},
   "outputs": [
    {
     "name": "stdout",
     "output_type": "stream",
     "text": [
      "DataFrames salvos em arquivos CSV com sucesso!\n"
     ]
    }
   ],
   "source": [
    "# Criar DataFrame para clientes e garantir que não há duplicatas\n",
    "df_clientes = df[['IDCliente', 'Pais']].drop_duplicates(subset=['IDCliente'])\n",
    "\n",
    "# Criar DataFrame para produtos e garantir que não há duplicatas\n",
    "df_produtos = df[['CodigoProduto', 'Descricao', 'Categoria', 'PrecoUnitario', 'CategoriaPreco']].drop_duplicates(subset=['CodigoProduto'])\n",
    "\n",
    "# Criar DataFrame para itens de fatura incluindo as novas colunas Venda e Devolucao\n",
    "df_itens_fatura = df[['NumeroFatura', 'CodigoProduto', 'IDCliente', 'DataFatura', 'Quantidade', 'ValorTotal', 'Venda', 'Devolucao']]\n",
    "\n",
    "# Salvando os DataFrames em arquivos CSV\n",
    "df_clientes.to_csv('clientes.csv', index=False)\n",
    "df_produtos.to_csv('produtos.csv', index=False)\n",
    "df_itens_fatura.to_csv('itens_fatura.csv', index=False)\n",
    "\n",
    "print(\"DataFrames salvos em arquivos CSV com sucesso!\")"
   ]
  },
  {
   "cell_type": "code",
   "execution_count": 43,
   "metadata": {},
   "outputs": [
    {
     "name": "stdout",
     "output_type": "stream",
     "text": [
      "Requirement already satisfied: pandas in c:\\users\\giova\\appdata\\local\\programs\\python\\python311\\lib\\site-packages (2.0.0)\n",
      "Requirement already satisfied: sqlalchemy in c:\\users\\giova\\appdata\\local\\programs\\python\\python311\\lib\\site-packages (2.0.29)\n",
      "Requirement already satisfied: psycopg2-binary in c:\\users\\giova\\appdata\\local\\programs\\python\\python311\\lib\\site-packages (2.9.9)\n",
      "Requirement already satisfied: python-dateutil>=2.8.2 in c:\\users\\giova\\appdata\\local\\programs\\python\\python311\\lib\\site-packages (from pandas) (2.8.2)\n",
      "Requirement already satisfied: pytz>=2020.1 in c:\\users\\giova\\appdata\\local\\programs\\python\\python311\\lib\\site-packages (from pandas) (2023.3)\n",
      "Requirement already satisfied: tzdata>=2022.1 in c:\\users\\giova\\appdata\\local\\programs\\python\\python311\\lib\\site-packages (from pandas) (2023.3)\n",
      "Requirement already satisfied: numpy>=1.21.0 in c:\\users\\giova\\appdata\\local\\programs\\python\\python311\\lib\\site-packages (from pandas) (1.24.2)\n",
      "Requirement already satisfied: typing-extensions>=4.6.0 in c:\\users\\giova\\appdata\\local\\programs\\python\\python311\\lib\\site-packages (from sqlalchemy) (4.11.0)\n",
      "Requirement already satisfied: greenlet!=0.4.17 in c:\\users\\giova\\appdata\\local\\programs\\python\\python311\\lib\\site-packages (from sqlalchemy) (3.0.3)\n",
      "Requirement already satisfied: six>=1.5 in c:\\users\\giova\\appdata\\local\\programs\\python\\python311\\lib\\site-packages (from python-dateutil>=2.8.2->pandas) (1.16.0)\n",
      "Note: you may need to restart the kernel to use updated packages.\n"
     ]
    },
    {
     "name": "stderr",
     "output_type": "stream",
     "text": [
      "\n",
      "[notice] A new release of pip is available: 23.0.1 -> 24.0\n",
      "[notice] To update, run: python.exe -m pip install --upgrade pip\n"
     ]
    }
   ],
   "source": [
    "pip install pandas sqlalchemy psycopg2-binary\n"
   ]
  },
  {
   "cell_type": "code",
   "execution_count": 44,
   "metadata": {},
   "outputs": [
    {
     "name": "stdout",
     "output_type": "stream",
     "text": [
      "Empty DataFrame\n",
      "Columns: [NumeroFatura, CodigoProduto, IDCliente, DataFatura, Quantidade, ValorTotal, Venda, Devolucao]\n",
      "Index: []\n"
     ]
    }
   ],
   "source": [
    "import pandas as pd\n",
    "\n",
    "# Carregar o arquivo CSV\n",
    "df_itens_fatura = pd.read_csv('C:/temp/itens_fatura.csv')\n",
    "\n",
    "# Encontrar duplicatas baseadas nas colunas 'NumeroFatura' e 'CodigoProduto'\n",
    "duplicatas = df_itens_fatura[df_itens_fatura.duplicated(subset=['NumeroFatura', 'CodigoProduto'], keep=False)]\n",
    "\n",
    "print(duplicatas)"
   ]
  },
  {
   "cell_type": "code",
   "execution_count": 45,
   "metadata": {},
   "outputs": [],
   "source": [
    "# Remover duplicatas mantendo apenas a primeira ocorrência\n",
    "df_itens_fatura = df_itens_fatura.drop_duplicates(subset=['NumeroFatura', 'CodigoProduto'])\n",
    "\n",
    "# Salvar o DataFrame limpo de volta para o CSV\n",
    "df_itens_fatura.to_csv('C:/temp/itens_fatura.csv', index=False)\n"
   ]
  },
  {
   "cell_type": "code",
   "execution_count": null,
   "metadata": {},
   "outputs": [],
   "source": []
  }
 ],
 "metadata": {
  "kernelspec": {
   "display_name": "Python 3",
   "language": "python",
   "name": "python3"
  },
  "language_info": {
   "codemirror_mode": {
    "name": "ipython",
    "version": 3
   },
   "file_extension": ".py",
   "mimetype": "text/x-python",
   "name": "python",
   "nbconvert_exporter": "python",
   "pygments_lexer": "ipython3",
   "version": "3.11.3"
  }
 },
 "nbformat": 4,
 "nbformat_minor": 2
}
